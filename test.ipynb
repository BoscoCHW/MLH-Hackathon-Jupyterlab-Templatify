{
 "cells": [
  {
   "cell_type": "markdown",
   "id": "7772fded",
   "metadata": {},
   "source": [
    "\n",
    "        # My first automatic Jupyter Notebook\n",
    "        This is an auto-generated notebook."
   ]
  },
  {
   "cell_type": "code",
   "execution_count": null,
   "id": "3147d42b",
   "metadata": {},
   "outputs": [],
   "source": [
    "\n",
    "        %pylab inline\n",
    "        hist(normal(size=2000), bins=50);"
   ]
  }
 ],
 "metadata": {},
 "nbformat": 4,
 "nbformat_minor": 5
}
