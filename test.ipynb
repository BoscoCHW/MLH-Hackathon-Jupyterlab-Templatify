{
 "cells": [
  {
   "cell_type": "markdown",
   "id": "29f7c7a7",
   "metadata": {},
   "source": [
    "\n",
    "        # My first automatic Jupyter Notebook\n",
    "        This is an auto-generated notebook.\n",
    "        "
   ]
  },
  {
   "cell_type": "code",
   "execution_count": null,
   "id": "73d83ead",
   "metadata": {},
   "outputs": [],
   "source": [
    "\n",
    "        %pylab inline\n",
    "        hist(normal(size=2000), bins=50);\n",
    "        "
   ]
  }
 ],
 "metadata": {},
 "nbformat": 4,
 "nbformat_minor": 5
}
