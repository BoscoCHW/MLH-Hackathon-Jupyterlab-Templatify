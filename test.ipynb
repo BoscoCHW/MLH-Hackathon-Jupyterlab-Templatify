{
 "cells": [
  {
   "cell_type": "markdown",
   "id": "2b74fa0c",
   "metadata": {},
   "source": [
    "# Histograms for numeric data"
   ]
  },
  {
   "cell_type": "code",
   "execution_count": null,
   "id": "bca36501",
   "metadata": {},
   "outputs": [],
   "source": [
    "df_num = df.select_dtypes(include = ['float64', 'int64'])\n",
    "df_num.head()\n",
    "df_num.hist(figsize=(16, 20), bins=50, xlabelsize=8, ylabelsize=8)"
   ]
  }
 ],
 "metadata": {},
 "nbformat": 4,
 "nbformat_minor": 5
}
