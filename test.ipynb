{
 "cells": [
  {
   "cell_type": "markdown",
   "id": "f38cf698",
   "metadata": {},
   "source": [
    "\n",
    "        # My first automatic Jupyter Notebook\n",
    "        This is an auto-generated notebook."
   ]
  },
  {
   "cell_type": "code",
   "execution_count": null,
   "id": "ce9e5e3c",
   "metadata": {},
   "outputs": [],
   "source": [
    "\n",
    "        %pylab inline\n",
    "        hist(normal(size=2000), bins=50);"
   ]
  }
 ],
 "metadata": {},
 "nbformat": 4,
 "nbformat_minor": 5
}
